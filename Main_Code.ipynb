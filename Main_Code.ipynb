{
  "cells": [
    {
      "cell_type": "code",
      "execution_count": null,
      "metadata": {
        "colab": {
          "base_uri": "https://localhost:8080/"
        },
        "id": "POiBbPoHzdR2",
        "outputId": "9da5b812-42d0-41a4-f2c1-3d08a8c3b8ce"
      },
      "outputs": [
        {
          "ename": "",
          "evalue": "",
          "output_type": "error",
          "traceback": [
            "\u001b[1;31mFailed to start the Kernel. \n",
            "\u001b[1;31mPermissionError: [WinError 5] Access is denied: 'C:\\\\Users\\\\kimoe\\\\.ipython'. \n",
            "\u001b[1;31mView Jupyter <a href='command:jupyter.viewOutput'>log</a> for further details."
          ]
        }
      ],
      "source": [
        "import numpy as np\n",
        "import pandas as pd\n",
        "import matplotlib.pyplot as plt\n",
        "import seaborn as sns\n",
        "titanic = pd.read_csv(\"/content/titanic.csv\")\n",
        "tit = titanic.copy()\n",
        "\n",
        "# AGE\n",
        "man = tit[(tit['Sex']=='male') & (tit['Survived']==1)]\n",
        "man_no = tit[(tit['Sex']=='male') & (tit['Survived']==0)]\n",
        "woman= tit[(tit['Sex']=='female')&(tit['Survived']==1)]\n",
        "woman_no= tit[(tit['Sex']=='female')&(tit['Survived']==0)]\n",
        "\n",
        "tit.loc[(tit['Sex']=='male')& (tit['Survived']==1) & (tit['Age'].isna()), 'Age']=man['Age'].mean()\n",
        "tit.loc[(tit['Sex']=='male') & (tit['Survived']==0)&(tit['Age'].isna()), 'Age'] = man_no['Age'].mean()\n",
        "tit.loc[(tit['Sex']=='female')&(tit['Survived']==1)&(tit['Age'].isna()), 'Age']=woman['Age'].mean()\n",
        "tit.loc[(tit['Sex']=='female')&(tit['Survived']==0)&(tit['Age'].isna()), 'Age']=woman_no['Age'].mean()\n",
        "\n",
        "# Fare\n",
        "q1 = tit['Fare'].quantile(0.25)\n",
        "q3 = tit['Fare'].quantile(0.75)\n",
        "tit.loc[tit['Fare']==0.000000, 'Fare'] = q1\n",
        "iqr = q3 - q1\n",
        "low = q1 - iqr * 1.5\n",
        "high = q3 + iqr * 1.5\n",
        "tit['Fare'].clip(lower= low, upper= high, inplace=True)\n",
        "tit['Fare'].describe()\n",
        "\n",
        "# Cabin\n",
        "cab_one = tit[(tit['Fare']<=q1)]\n",
        "cab_two = tit[(tit['Fare']<tit['Fare'].median())&(tit['Fare']>q1)]\n",
        "cab_three = tit[(tit['Fare']>tit['Fare'].median())&(tit['Fare']<q3)]\n",
        "cab_four = tit[(tit['Fare']>q3)]\n",
        "\n",
        "tit.loc[(tit['Fare']<= q1)&(tit['Cabin'].isna()),'Cabin'] = cab_one['Cabin'].mode()[0]\n",
        "tit.loc[(tit['Fare'] > q1)&(tit['Cabin'].isna()),'Cabin'] = cab_two['Cabin'].mode()[0]\n",
        "tit.loc[(tit['Fare'] > tit['Fare'].median())&(tit['Cabin'].isna()),'Cabin'] = cab_three['Cabin'].mode()[0]\n",
        "tit.loc[(tit['Fare'] > q3)&(tit['Cabin'].isna()),'Cabin'] = cab_four['Cabin'].mode()[0]\n",
        "\n",
        "#Embarked\n",
        "tit['Embarked'].fillna(tit['Embarked'].mode()[0], inplace=True)\n"
      ]
    },
    {
      "cell_type": "markdown",
      "metadata": {},
      "source": [
        "# Visualizations"
      ]
    },
    {
      "cell_type": "code",
      "execution_count": null,
      "metadata": {},
      "outputs": [],
      "source": [
        "sex_count=tit['Sex'].value_counts()\n",
        "sex_count.plot(kind='pie',autopct=\"%.2f\",labels=tit['Sex'].values)\n",
        "plt.title(\"Male and Female\")\n",
        "plt.show()"
      ]
    },
    {
      "cell_type": "code",
      "execution_count": null,
      "metadata": {},
      "outputs": [],
      "source": [
        "plt.figure(figsize=(10,10))\n",
        "plt.subplot(1,2,1)\n",
        "servived = man.merge(woman ,how=\"outer\")\n",
        "count=servived['Sex'].value_counts()\n",
        "count.plot(kind=\"pie\",autopct=\"%.2f\",labels=servived['Sex'].values)\n",
        "plt.title(\"Majority of Survived People\")\n",
        "\n",
        "plt.subplot(1,2,2)\n",
        "n_survived = man_no.merge(woman_no,how=\"outer\")\n",
        "count_no = n_survived['Sex'].value_counts()\n",
        "count_no.plot(kind=\"pie\",autopct=\"%.2f\",labels=n_survived[\"Sex\"].values)\n",
        "plt.title(\"Majority for People didn't survived\")"
      ]
    },
    {
      "cell_type": "code",
      "execution_count": null,
      "metadata": {},
      "outputs": [],
      "source": [
        "sns.histplot(data=tit[\"Age\"])\n",
        "plt.ylabel(\"People\")\n",
        "plt.title(\"People's Age\")"
      ]
    }
  ],
  "metadata": {
    "colab": {
      "provenance": []
    },
    "kernelspec": {
      "display_name": "Python 3",
      "name": "python3"
    },
    "language_info": {
      "name": "python",
      "version": "3.13.0"
    }
  },
  "nbformat": 4,
  "nbformat_minor": 0
}
