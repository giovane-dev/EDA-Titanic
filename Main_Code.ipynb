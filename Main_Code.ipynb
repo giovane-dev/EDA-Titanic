{
  "nbformat": 4,
  "nbformat_minor": 0,
  "metadata": {
    "colab": {
      "provenance": []
    },
    "kernelspec": {
      "name": "python3",
      "display_name": "Python 3"
    },
    "language_info": {
      "name": "python"
    }
  },
  "cells": [
    {
      "cell_type": "code",
      "execution_count": null,
      "metadata": {
        "colab": {
          "base_uri": "https://localhost:8080/"
        },
        "id": "POiBbPoHzdR2",
        "outputId": "9da5b812-42d0-41a4-f2c1-3d08a8c3b8ce"
      },
      "outputs": [
        {
          "output_type": "stream",
          "name": "stderr",
          "text": [
            "<ipython-input-8-a63b93ab7514>:25: FutureWarning: A value is trying to be set on a copy of a DataFrame or Series through chained assignment using an inplace method.\n",
            "The behavior will change in pandas 3.0. This inplace method will never work because the intermediate object on which we are setting values always behaves as a copy.\n",
            "\n",
            "For example, when doing 'df[col].method(value, inplace=True)', try using 'df.method({col: value}, inplace=True)' or df[col] = df[col].method(value) instead, to perform the operation inplace on the original object.\n",
            "\n",
            "\n",
            "  tit['Fare'].clip(lower= low, upper= high, inplace=True)\n",
            "<ipython-input-8-a63b93ab7514>:40: FutureWarning: A value is trying to be set on a copy of a DataFrame or Series through chained assignment using an inplace method.\n",
            "The behavior will change in pandas 3.0. This inplace method will never work because the intermediate object on which we are setting values always behaves as a copy.\n",
            "\n",
            "For example, when doing 'df[col].method(value, inplace=True)', try using 'df.method({col: value}, inplace=True)' or df[col] = df[col].method(value) instead, to perform the operation inplace on the original object.\n",
            "\n",
            "\n",
            "  tit['Embarked'].fillna(tit['Embarked'].mode()[0], inplace=True)\n"
          ]
        },
        {
          "output_type": "execute_result",
          "data": {
            "text/plain": [
              "4.0125"
            ]
          },
          "metadata": {},
          "execution_count": 8
        }
      ],
      "source": [
        "import numpy as np\n",
        "import pandas as pd\n",
        "import matplotlib.pyplot as plt\n",
        "titanic = pd.read_csv(\"/content/titanic.csv\")\n",
        "tit = titanic.copy()\n",
        "\n",
        "# AGE\n",
        "man = tit[(tit['Sex']=='male') & (tit['Survived']==1)]\n",
        "man_no = tit[(tit['Sex']=='male') & (tit['Survived']==0)]\n",
        "woman= tit[(tit['Sex']=='female')&(tit['Survived']==1)]\n",
        "woman_no= tit[(tit['Sex']=='female')&(tit['Survived']==0)]\n",
        "\n",
        "tit.loc[(tit['Sex']=='male')& (tit['Survived']==1) & (tit['Age'].isna()), 'Age']=man['Age'].mean()\n",
        "tit.loc[(tit['Sex']=='male') & (tit['Survived']==0)&(tit['Age'].isna()), 'Age'] = man_no['Age'].mean()\n",
        "tit.loc[(tit['Sex']=='female')&(tit['Survived']==1)&(tit['Age'].isna()), 'Age']=woman['Age'].mean()\n",
        "tit.loc[(tit['Sex']=='female')&(tit['Survived']==0)&(tit['Age'].isna()), 'Age']=woman_no['Age'].mean()\n",
        "\n",
        "# Fare\n",
        "q1 = tit['Fare'].quantile(0.25)\n",
        "q3 = tit['Fare'].quantile(0.75)\n",
        "tit.loc[tit['Fare']==0.000000, 'Fare'] = q1\n",
        "iqr = q3 - q1\n",
        "low = q1 - iqr * 1.5\n",
        "high = q3 + iqr * 1.5\n",
        "tit['Fare'].clip(lower= low, upper= high, inplace=True)\n",
        "tit['Fare'].describe()\n",
        "\n",
        "# Cabin\n",
        "cab_one = tit[(tit['Fare']<=q1)]\n",
        "cab_two = tit[(tit['Fare']<tit['Fare'].median())&(tit['Fare']>q1)]\n",
        "cab_three = tit[(tit['Fare']>tit['Fare'].median())&(tit['Fare']<q3)]\n",
        "cab_four = tit[(tit['Fare']>q3)]\n",
        "\n",
        "tit.loc[(tit['Fare']<= q1)&(tit['Cabin'].isna()),'Cabin'] = cab_one['Cabin'].mode()[0]\n",
        "tit.loc[(tit['Fare'] > q1)&(tit['Cabin'].isna()),'Cabin'] = cab_two['Cabin'].mode()[0]\n",
        "tit.loc[(tit['Fare'] > tit['Fare'].median())&(tit['Cabin'].isna()),'Cabin'] = cab_three['Cabin'].mode()[0]\n",
        "tit.loc[(tit['Fare'] > q3)&(tit['Cabin'].isna()),'Cabin'] = cab_four['Cabin'].mode()[0]\n",
        "\n",
        "#Embarked\n",
        "tit['Embarked'].fillna(tit['Embarked'].mode()[0], inplace=True)\n"
      ]
    }
  ]
}